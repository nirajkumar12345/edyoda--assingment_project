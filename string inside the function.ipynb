{
 "cells": [
  {
   "cell_type": "code",
   "execution_count": null,
   "id": "733d09e5",
   "metadata": {},
   "outputs": [],
   "source": [
    "#Write a Python program to reverse a string.\n",
    "Sample String : \"1234abcd\"\n",
    "Expected Output : \"dcba4321\""
   ]
  },
  {
   "cell_type": "code",
   "execution_count": 4,
   "id": "45464f8e",
   "metadata": {},
   "outputs": [
    {
     "name": "stdout",
     "output_type": "stream",
     "text": [
      "dcba4321\n"
     ]
    }
   ],
   "source": [
    "def string_reverse(strg):\n",
    "    rstrg = ''\n",
    "    index = len(strg)\n",
    "    while index > 0:\n",
    "        rstrg += strg[ index - 1 ]\n",
    "        index = index - 1\n",
    "    return rstrg\n",
    "print(string_reverse('1234abcd'))"
   ]
  },
  {
   "cell_type": "code",
   "execution_count": null,
   "id": "5baaf9be",
   "metadata": {},
   "outputs": [],
   "source": []
  },
  {
   "cell_type": "code",
   "execution_count": null,
   "id": "de3db6e2",
   "metadata": {},
   "outputs": [],
   "source": []
  }
 ],
 "metadata": {
  "kernelspec": {
   "display_name": "Python 3 (ipykernel)",
   "language": "python",
   "name": "python3"
  },
  "language_info": {
   "codemirror_mode": {
    "name": "ipython",
    "version": 3
   },
   "file_extension": ".py",
   "mimetype": "text/x-python",
   "name": "python",
   "nbconvert_exporter": "python",
   "pygments_lexer": "ipython3",
   "version": "3.10.9"
  }
 },
 "nbformat": 4,
 "nbformat_minor": 5
}
