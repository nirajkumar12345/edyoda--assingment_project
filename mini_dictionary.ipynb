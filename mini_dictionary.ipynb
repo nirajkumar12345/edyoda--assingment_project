{
 "cells": [
  {
   "cell_type": "code",
   "execution_count": null,
   "id": "4b2029c8",
   "metadata": {},
   "outputs": [],
   "source": [
    "# Write a Python program to print a dictionary whose keys should be the alphabet \n",
    " #   from a-z and the value should be corresponding ASCII values\n",
    "\n",
    "    Sample Output : {'a': 97, 'b': 98, 'c': 99, 'd': 100, 'e': 101, 'f': 102, 'g': 103, 'h': 104, 'i': 105, 'j': 106, 'k': 107, 'l': 108, 'm': 109, \n",
    "                     'n': 110, 'o': 111, 'p': 112, 'q': 113, 'r': 114, 's': 115, 't': 116, 'u': 117, 'v': 118, 'w': 119, \n",
    "                     'x': 120, 'y': 121, 'z': 122}"
   ]
  },
  {
   "cell_type": "code",
   "execution_count": 4,
   "id": "9c71a8bd",
   "metadata": {},
   "outputs": [
    {
     "name": "stdout",
     "output_type": "stream",
     "text": [
      "{'97': 'a', '98': 'b', '99': 'c', '100': 'd', '101': 'e', '102': 'f', '103': 'g', '104': 'h', '105': 'i', '106': 'j', '107': 'k', '108': 'l', '109': 'm', '110': 'n', '111': 'o', '112': 'p', '113': 'q', '114': 'r', '115': 's', '116': 't', '117': 'u', '118': 'v', '119': 'w', '120': 'x', '121': 'y', '122': 'z'}\n"
     ]
    }
   ],
   "source": [
    "#input  \n",
    "#   dict{'a': 97, 'b': 98, 'c': 99, 'd': 100, 'e': 101, 'f': 102, 'g': 103, 'h': 104, 'i': 105, 'j': 106, 'k': 107, 'l': 108, 'm': 109,\n",
    "#      'n': 110, 'o': 111, 'p': 112, 'q': 113, 'r': 114, 's': 115, 't': 116, 'u': 117, 'v': 118, 'w': 119, \n",
    "#                                          'x': 120, 'y': 121, 'z': 122}\n",
    "\n",
    "asciidict = dict()\n",
    "alphabetletter = range(97,123)\n",
    "for i in alphabetletter:\n",
    "    asciidict[str(i)] = chr(i)\n",
    "print(asciidict)"
   ]
  },
  {
   "cell_type": "code",
   "execution_count": null,
   "id": "4e15727a",
   "metadata": {},
   "outputs": [],
   "source": []
  },
  {
   "cell_type": "code",
   "execution_count": null,
   "id": "a1b3ad5a",
   "metadata": {},
   "outputs": [],
   "source": []
  }
 ],
 "metadata": {
  "kernelspec": {
   "display_name": "Python 3 (ipykernel)",
   "language": "python",
   "name": "python3"
  },
  "language_info": {
   "codemirror_mode": {
    "name": "ipython",
    "version": 3
   },
   "file_extension": ".py",
   "mimetype": "text/x-python",
   "name": "python",
   "nbconvert_exporter": "python",
   "pygments_lexer": "ipython3",
   "version": "3.10.9"
  }
 },
 "nbformat": 4,
 "nbformat_minor": 5
}
