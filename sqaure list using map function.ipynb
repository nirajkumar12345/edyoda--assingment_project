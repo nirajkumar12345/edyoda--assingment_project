{
 "cells": [
  {
   "cell_type": "code",
   "execution_count": null,
   "id": "d233c92b",
   "metadata": {},
   "outputs": [],
   "source": [
    "Write a Python program to square the elements of a list using map() function.\n",
    "\n",
    "Sample List: [4, 5, 2, 9]\n",
    "Square the elements of the list:\n",
    "[16, 25, 4, 81]"
   ]
  },
  {
   "cell_type": "code",
   "execution_count": 4,
   "id": "74dd1589",
   "metadata": {},
   "outputs": [
    {
     "name": "stdout",
     "output_type": "stream",
     "text": [
      "Original List:  [4, 5, 2, 9]\n",
      "Square the elements():\n",
      "[16, 25, 4, 81]\n"
     ]
    }
   ],
   "source": [
    "def square_num(n):\n",
    "  return n * n\n",
    "nums = [4, 5, 2, 9]\n",
    "print(\"Original List: \",nums)\n",
    "result = map(square_num, nums)\n",
    "print(\"Square the elements():\")\n",
    "print(list(result))"
   ]
  },
  {
   "cell_type": "code",
   "execution_count": null,
   "id": "b74c728c",
   "metadata": {},
   "outputs": [],
   "source": []
  }
 ],
 "metadata": {
  "kernelspec": {
   "display_name": "Python 3 (ipykernel)",
   "language": "python",
   "name": "python3"
  },
  "language_info": {
   "codemirror_mode": {
    "name": "ipython",
    "version": 3
   },
   "file_extension": ".py",
   "mimetype": "text/x-python",
   "name": "python",
   "nbconvert_exporter": "python",
   "pygments_lexer": "ipython3",
   "version": "3.10.9"
  }
 },
 "nbformat": 4,
 "nbformat_minor": 5
}
