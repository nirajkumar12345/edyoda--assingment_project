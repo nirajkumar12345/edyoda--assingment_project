{
 "cells": [
  {
   "cell_type": "code",
   "execution_count": null,
   "id": "e2e6e0eb",
   "metadata": {},
   "outputs": [],
   "source": [
    " #lambda function:"
   ]
  },
  {
   "cell_type": "code",
   "execution_count": null,
   "id": "bead606e",
   "metadata": {},
   "outputs": [],
   "source": [
    "add = lambda num1,num2 : num1+num2"
   ]
  },
  {
   "cell_type": "code",
   "execution_count": 2,
   "id": "eca81966",
   "metadata": {},
   "outputs": [
    {
     "ename": "NameError",
     "evalue": "name 'add' is not defined",
     "output_type": "error",
     "traceback": [
      "\u001b[1;31m---------------------------------------------------------------------------\u001b[0m",
      "\u001b[1;31mNameError\u001b[0m                                 Traceback (most recent call last)",
      "Cell \u001b[1;32mIn[2], line 1\u001b[0m\n\u001b[1;32m----> 1\u001b[0m result \u001b[38;5;241m=\u001b[39m \u001b[43madd\u001b[49m(\u001b[38;5;241m4\u001b[39m,\u001b[38;5;241m6\u001b[39m)\n",
      "\u001b[1;31mNameError\u001b[0m: name 'add' is not defined"
     ]
    }
   ],
   "source": [
    "result = add(4,6)"
   ]
  },
  {
   "cell_type": "code",
   "execution_count": 2,
   "id": "0ff73824",
   "metadata": {},
   "outputs": [
    {
     "ename": "NameError",
     "evalue": "name 'saquare' is not defined",
     "output_type": "error",
     "traceback": [
      "\u001b[1;31m---------------------------------------------------------------------------\u001b[0m",
      "\u001b[1;31mNameError\u001b[0m                                 Traceback (most recent call last)",
      "Cell \u001b[1;32mIn[2], line 6\u001b[0m\n\u001b[0;32m      3\u001b[0m     \u001b[38;5;28;01mreturn\u001b[39;00m\n\u001b[0;32m      5\u001b[0m number \u001b[38;5;241m=\u001b[39m \u001b[38;5;241m6\u001b[39m\n\u001b[1;32m----> 6\u001b[0m \u001b[43msaquare\u001b[49m(num)\n",
      "\u001b[1;31mNameError\u001b[0m: name 'saquare' is not defined"
     ]
    }
   ],
   "source": [
    "def square (num):\n",
    "    s =num*num\n",
    "    return\n",
    "\n",
    "number = 6\n",
    "saquare(num)"
   ]
  },
  {
   "cell_type": "code",
   "execution_count": 4,
   "id": "1a59852d",
   "metadata": {},
   "outputs": [
    {
     "data": {
      "text/plain": [
       "True"
      ]
     },
     "execution_count": 4,
     "metadata": {},
     "output_type": "execute_result"
    }
   ],
   "source": [
    "# write a program to check if the number is even or odd\n",
    "even = lambda number :number%2 == 0\n",
    "even(18)"
   ]
  },
  {
   "cell_type": "code",
   "execution_count": null,
   "id": "16af54fa",
   "metadata": {},
   "outputs": [],
   "source": [
    "user has given his first name and last name ,now store it in a varriable called\n",
    "full name.\n",
    "for e.g\n",
    "first name = \"Ram\"\n",
    "last name  = \"kumar\""
   ]
  },
  {
   "cell_type": "code",
   "execution_count": 1,
   "id": "a301d4ac",
   "metadata": {},
   "outputs": [],
   "source": [
    "first_name = \"RaM\"\n",
    "last_name  = \"kumAr\"\n",
    "full_name  = lambda a,b : a.title() + \" \" + b.title()\n",
    "full_name = (first_name, last_name)"
   ]
  },
  {
   "cell_type": "code",
   "execution_count": null,
   "id": "c4625960",
   "metadata": {},
   "outputs": [],
   "source": []
  },
  {
   "cell_type": "code",
   "execution_count": null,
   "id": "80aafe1e",
   "metadata": {},
   "outputs": [],
   "source": []
  }
 ],
 "metadata": {
  "kernelspec": {
   "display_name": "Python 3 (ipykernel)",
   "language": "python",
   "name": "python3"
  },
  "language_info": {
   "codemirror_mode": {
    "name": "ipython",
    "version": 3
   },
   "file_extension": ".py",
   "mimetype": "text/x-python",
   "name": "python",
   "nbconvert_exporter": "python",
   "pygments_lexer": "ipython3",
   "version": "3.10.9"
  }
 },
 "nbformat": 4,
 "nbformat_minor": 5
}
